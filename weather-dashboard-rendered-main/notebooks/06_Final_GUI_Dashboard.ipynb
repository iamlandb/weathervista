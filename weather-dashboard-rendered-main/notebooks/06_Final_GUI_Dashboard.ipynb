{
 "cells": [
  {
   "cell_type": "code",
   "execution_count": 2,
   "id": "d3fff538-ac9a-4dfd-a074-c38210d2360a",
   "metadata": {},
   "outputs": [
    {
     "ename": "ImportError",
     "evalue": "cannot import name 'fetch_weather_data' from 'Project' (C:\\Users\\86185\\SCNU\\weather-dashboard-rendered-main (2)\\weather-dashboard-rendered-main\\notebooks\\Project.py)",
     "output_type": "error",
     "traceback": [
      "\u001b[1;31m---------------------------------------------------------------------------\u001b[0m",
      "\u001b[1;31mImportError\u001b[0m                               Traceback (most recent call last)",
      "Cell \u001b[1;32mIn[2], line 7\u001b[0m\n\u001b[0;32m      5\u001b[0m \u001b[38;5;28;01mfrom\u001b[39;00m \u001b[38;5;21;01mmatplotlib\u001b[39;00m\u001b[38;5;21;01m.\u001b[39;00m\u001b[38;5;21;01mbackends\u001b[39;00m\u001b[38;5;21;01m.\u001b[39;00m\u001b[38;5;21;01mbackend_tkagg\u001b[39;00m \u001b[38;5;28;01mimport\u001b[39;00m FigureCanvasTkAgg\n\u001b[0;32m      6\u001b[0m \u001b[38;5;28;01mimport\u001b[39;00m \u001b[38;5;21;01mProject\u001b[39;00m \u001b[38;5;28;01mas\u001b[39;00m \u001b[38;5;21;01mwp\u001b[39;00m  \u001b[38;5;66;03m# Assuming this contains your plotting functions\u001b[39;00m\n\u001b[1;32m----> 7\u001b[0m \u001b[38;5;28;01mfrom\u001b[39;00m \u001b[38;5;21;01mProject\u001b[39;00m \u001b[38;5;28;01mimport\u001b[39;00m fetch_weather_data\n\u001b[0;32m      8\u001b[0m \u001b[38;5;28;01mfrom\u001b[39;00m \u001b[38;5;21;01mProject\u001b[39;00m \u001b[38;5;28;01mimport\u001b[39;00m process_weather_data\n\u001b[0;32m     10\u001b[0m \u001b[38;5;66;03m# Function to determine weather description\u001b[39;00m\n",
      "\u001b[1;31mImportError\u001b[0m: cannot import name 'fetch_weather_data' from 'Project' (C:\\Users\\86185\\SCNU\\weather-dashboard-rendered-main (2)\\weather-dashboard-rendered-main\\notebooks\\Project.py)"
     ]
    }
   ],
   "source": [
    "import tkinter as tk\n",
    "from tkinter import ttk\n",
    "import pandas as pd\n",
    "import matplotlib.pyplot as plt\n",
    "from matplotlib.backends.backend_tkagg import FigureCanvasTkAgg\n",
    "import Project as wp  # Assuming this contains your plotting functions\n",
    "from Project import Wfetch_weather_data\n",
    "from Project import process_weather_data\n",
    "\n",
    "# Function to determine weather description\n",
    "def determine_weather(row, sunny_threshold, rainy_min_temp_threshold, rainy_humidity_threshold):\n",
    "    if row['Max Temperature (C)'] > sunny_threshold:\n",
    "        return 'Sunny'\n",
    "    elif row['Min Temperature (C)'] < rainy_min_temp_threshold and row['Max Humidity (%)'] > rainy_humidity_threshold:\n",
    "        return 'Rainy'\n",
    "    else:\n",
    "        return 'Partly Cloudy'\n",
    "\n",
    "# Function to update weather data and plots\n",
    "def update_weather():\n",
    "    city = city_var.get()\n",
    "    api_key = 'd0de46031ad7410d0c72c6063690e1d0'  # Replace with your OpenWeatherMap API key\n",
    "    current_data, forecast_data = fetch_weather_data(api_key, city)\n",
    "    current_df, hourly_df, daily_df = process_weather_data(current_data, forecast_data)\n",
    "    daily_df['Weather'] = daily_df.apply(determine_weather, axis=1, args=(25, 15, 80))\n",
    "\n",
    "    for widget in plot_frame.winfo_children():\n",
    "        widget.destroy()\n",
    "    \n",
    "    fig, axs = plt.subplots(1, 3, figsize=(15, 4))\n",
    "    fig.tight_layout(pad=5.0)\n",
    "\n",
    "    # Generate plots\n",
    "    wp.create_forecast_card(axs[0], daily_df.iloc[0]['Date'], daily_df.iloc[0]['Max Temperature (C)'], daily_df.iloc[0]['Min Temperature (C)'], daily_df.iloc[0]['Weather'])\n",
    "    wp.plot_scatter(hourly_df, 'Temperature (C)', 'Wind Speed (m/s)', axs[1], title=\"Wind Speed vs Temperature\")\n",
    "    wp.plot_min_max(daily_df, 'Date', 'Min Temperature (C)', 'Max Temperature (C)', axs[2], title=\"Daily Min/Max Temperature\")\n",
    "\n",
    "    canvas = FigureCanvasTkAgg(fig, master=plot_frame)\n",
    "    canvas.draw()\n",
    "    canvas.get_tk_widget().pack(side=tk.TOP, fill=tk.BOTH, expand=1)\n",
    "\n",
    "# Create the main Tkinter window\n",
    "root = tk.Tk()\n",
    "root.title(\"Weather Dashboard\")\n",
    "\n",
    "# Create a frame for the controls\n",
    "control_frame = ttk.Frame(root, padding=\"10\")\n",
    "control_frame.grid(row=0, column=0, sticky=(tk.W, tk.E))\n",
    "\n",
    "# Create a frame for the plots\n",
    "plot_frame = ttk.Frame(root, padding=\"10\")\n",
    "plot_frame.grid(row=1, column=0, sticky=(tk.W, tk.E, tk.N, tk.S))\n",
    "\n",
    "# Dropdown for city selection\n",
    "city_var = tk.StringVar(value='Sydney')\n",
    "city_dropdown = ttk.Combobox(control_frame, textvariable=city_var, values=['Sydney', 'New York', 'London', 'Beijing'])\n",
    "city_dropdown.grid(row=0, column=0, padx=5, pady=5)\n",
    "\n",
    "# Button to fetch and update weather data\n",
    "update_button = ttk.Button(control_frame, text=\"Update Weather\", command=update_weather)\n",
    "update_button.grid(row=0, column=1, padx=5, pady=5)\n",
    "\n",
    "# Configure row and column weights\n",
    "root.grid_rowconfigure(1, weight=1)\n",
    "root.grid_columnconfigure(0, weight=1)\n",
    "plot_frame.grid_rowconfigure(0, weight=1)\n",
    "plot_frame.grid_columnconfigure(0, weight=1)\n",
    "\n",
    "# Initialize the weather data\n",
    "update_weather()\n",
    "\n",
    "# Start the Tkinter event loop\n",
    "root.mainloop()"
   ]
  },
  {
   "cell_type": "code",
   "execution_count": null,
   "id": "286d0402-2cdc-498e-adf3-5632fd0ce202",
   "metadata": {},
   "outputs": [],
   "source": []
  }
 ],
 "metadata": {
  "kernelspec": {
   "display_name": "Python 3 (ipykernel)",
   "language": "python",
   "name": "python3"
  },
  "language_info": {
   "codemirror_mode": {
    "name": "ipython",
    "version": 3
   },
   "file_extension": ".py",
   "mimetype": "text/x-python",
   "name": "python",
   "nbconvert_exporter": "python",
   "pygments_lexer": "ipython3",
   "version": "3.11.5"
  }
 },
 "nbformat": 4,
 "nbformat_minor": 5
}
