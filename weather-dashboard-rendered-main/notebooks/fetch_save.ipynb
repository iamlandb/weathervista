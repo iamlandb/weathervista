{
 "cells": [
  {
   "cell_type": "code",
   "execution_count": null,
   "id": "0e1e3dae-029a-4d99-a4de-345775b552b3",
   "metadata": {},
   "outputs": [],
   "source": [
    "import requests\n",
    "import pandas as pd\n",
    "\n",
    "def fetch_data(url):\n",
    "    response = requests.get(url)\n",
    "    data = response.json()\n",
    "    if response.status_code != 200:\n",
    "        print(\"faild to fetch data\")\n",
    "        return None\n",
    "    return data\n",
    "def parse_weather(entry):\n",
    "    if entry is None:\n",
    "        return None\n",
    "    return {\n",
    "        'Datetime': pd.to_datetime(entry['dt'], unit='s'),\n",
    "        'Temperature (C)': entry['main']['temp'] - 273.15,\n",
    "        'Humidity (%)': entry['main']['humidity'],\n",
    "        'Wind Speed (m/s)': entry['wind']['speed'],\n",
    "        'Weather': entry['weather'][0]['description']\n",
    "    }\n",
    "def save_to_csv(data, filename):\n",
    "    df = pd.DataFrame(data)\n",
    "    df.to_csv(filename, index=False)\n",
    "    print(f\"{filename} saved\")\n",
    "def calculate_daily_stats(forecast_data):\n",
    "    df_forecast = pd.DataFrame(forecast_data)\n",
    "    df_forecast[\"Date\"] = df_forecast[\"Datetime\"].dt.date\n",
    "    daily_stats =df_forecast.groupby(\"Date\").agg({\n",
    "        'Temperature (C)': ['min', 'max'],\n",
    "        'Humidity (%)': ['min', 'max'],\n",
    "        'Wind Speed (m/s)': ['min', 'max']\n",
    "    })\n",
    "    daily_stats.columns = ['Min Temperature (C)', 'Max Temperature (C)',\n",
    "                           'Min Humidity (%)', 'Max Humidity (%)',\n",
    "                           'Min Wind Speed (m/s)', 'Max Wind Speed (m/s)']\n",
    "    daily_stats.reset_index(inplace = True)\n",
    "    return daily_stats\n",
    "API_KEY = \"399b7d330c247da4e202f43b66680ae2\"\n",
    "LOCATION = \"Guangzhou\"\n",
    "forecast_filename = \"C:/Users/86185/SCNU/weather-dashboard-rendered-main (2)/weather-dashboard-rendered-main/notebooks/weather_forecast_data.csv\"\n",
    "current_filename = \"C:/Users/86185/SCNU/weather-dashboard-rendered-main (2)/weather-dashboard-rendered-main/notebooks/weather_current_data.csv\"\n",
    "daily_filename = \"C:/Users/86185/SCNU/weather-dashboard-rendered-main (2)/weather-dashboard-rendered-main/notebooks/daily_stats.csv\"\n",
    "current_url = f'http://api.openweathermap.org/data/2.5/weather?q={LOCATION}&appid={API_KEY}'\n",
    "forecast_url = f'http://api.openweathermap.org/data/2.5/forecast?q={LOCATION}&appid={API_KEY}'\n",
    "weather_forecast_data = fetch_data(forecast_url)\n",
    "weather_current_data = fetch_data(current_url)\n",
    "parse_forecast_data =[parse_weather(entry) for entry in weather_forecast_data[\"list\"]]\n",
    "parse_current_data = parse_weather(weather_current_data)\n",
    "save_to_csv([parse_current_data], current_filename)\n",
    "save_to_csv([parse_forecast_data], forecast_filename)\n",
    "daily_stats = calculate_daily_stats(parse_forecast_data)\n",
    "save_to_csv(daily_stats, daily_filename)\n"
   ]
  }
 ],
 "metadata": {
  "kernelspec": {
   "display_name": "Python 3 (ipykernel)",
   "language": "python",
   "name": "python3"
  },
  "language_info": {
   "codemirror_mode": {
    "name": "ipython",
    "version": 3
   },
   "file_extension": ".py",
   "mimetype": "text/x-python",
   "name": "python",
   "nbconvert_exporter": "python",
   "pygments_lexer": "ipython3",
   "version": "3.11.5"
  }
 },
 "nbformat": 4,
 "nbformat_minor": 5
}
